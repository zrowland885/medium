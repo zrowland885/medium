{
 "cells": [
  {
   "cell_type": "code",
   "execution_count": 11,
   "id": "6f8b4615",
   "metadata": {},
   "outputs": [],
   "source": [
    "# Uncomment to install libraries if necessary\n",
    "\n",
    "# !pip install earthengine-api --upgrade\n",
    "# !pip install geetools"
   ]
  },
  {
   "cell_type": "code",
   "execution_count": 12,
   "id": "37e2d0eb",
   "metadata": {},
   "outputs": [],
   "source": [
    "import ee\n",
    "import geetools"
   ]
  },
  {
   "cell_type": "code",
   "execution_count": 10,
   "id": "fb0609cd",
   "metadata": {},
   "outputs": [],
   "source": [
    "# Authenticate GEE with GUI\n",
    "\n",
    "# Trigger the authentication flow\n",
    "ee.Authenticate()\n",
    "\n",
    "# Initialize the library\n",
    "ee.Initialize()"
   ]
  },
  {
   "cell_type": "code",
   "execution_count": 13,
   "id": "46d808dc",
   "metadata": {},
   "outputs": [],
   "source": [
    "# Authenticate GEE with Service Account\n",
    "\n",
    "service_account = 'my-service-account@...gserviceaccount.com'\n",
    "credentials = ee.ServiceAccountCredentials(service_account, '.private-key.json')\n",
    "ee.Initialize(credentials)"
   ]
  },
  {
   "cell_type": "code",
   "execution_count": 14,
   "id": "ec35e6b3",
   "metadata": {},
   "outputs": [],
   "source": [
    "# Define the ImageCollection and Image\n",
    "roi = ee.Geometry.Rectangle([14.0, 36.2, 14.8, 35.7])\n",
    "\n",
    "collection = (ee.ImageCollection('COPERNICUS/S2_SR')\n",
    "                .filterDate('2022-01-01', '2022-03-01')\n",
    "                .filter(ee.Filter.lt('CLOUDY_PIXEL_PERCENTAGE', 5))\n",
    "                .filterBounds(roi))"
   ]
  },
  {
   "cell_type": "code",
   "execution_count": 1,
   "id": "390403cd",
   "metadata": {},
   "outputs": [],
   "source": [
    "# Export the ImageCollection\n",
    "tasks = geetools.batch.Export.imagecollection.toDrive(\n",
    "        collection=collection,\n",
    "        folder='gee_images',\n",
    "        region=roi.getInfo()['coordinates'],\n",
    "        namePattern='{id}',\n",
    "        scale=300,\n",
    "        dataType='uint32',\n",
    "        verbose=True,\n",
    "        maxPixels=int(1e13)\n",
    "    )"
   ]
  }
 ],
 "metadata": {
  "interpreter": {
   "hash": "7644fc45f16dd2e50d103ac86d5e3ed3211d04a99decc43776201213828c04c5"
  },
  "kernelspec": {
   "display_name": "Python 3.8.13 ('medium-gee')",
   "language": "python",
   "name": "python3"
  },
  "language_info": {
   "codemirror_mode": {
    "name": "ipython",
    "version": 3
   },
   "file_extension": ".py",
   "mimetype": "text/x-python",
   "name": "python",
   "nbconvert_exporter": "python",
   "pygments_lexer": "ipython3",
   "version": "3.11.0"
  }
 },
 "nbformat": 4,
 "nbformat_minor": 5
}
