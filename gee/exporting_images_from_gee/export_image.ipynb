{
 "cells": [
  {
   "cell_type": "code",
   "execution_count": 11,
   "id": "6f8b4615",
   "metadata": {},
   "outputs": [],
   "source": [
    "# Uncomment to install libraries if necessary\n",
    "\n",
    "# !pip install earthengine-api --upgrade"
   ]
  },
  {
   "cell_type": "code",
   "execution_count": 1,
   "id": "37e2d0eb",
   "metadata": {},
   "outputs": [],
   "source": [
    "import ee"
   ]
  },
  {
   "cell_type": "code",
   "execution_count": 11,
   "id": "fb0609cd",
   "metadata": {},
   "outputs": [],
   "source": [
    "# Authenticate GEE with GUI\n",
    "\n",
    "# Trigger the authentication flow\n",
    "ee.Authenticate()\n",
    "\n",
    "# Initialize the library\n",
    "ee.Initialize()"
   ]
  },
  {
   "cell_type": "code",
   "execution_count": 8,
   "id": "46d808dc",
   "metadata": {},
   "outputs": [],
   "source": [
    "# Authenticate GEE with Service Account\n",
    "\n",
    "service_account = 'my-service-account@...gserviceaccount.com'\n",
    "credentials = ee.ServiceAccountCredentials(service_account, '.private-key.json')\n",
    "ee.Initialize(credentials)"
   ]
  },
  {
   "cell_type": "code",
   "execution_count": 9,
   "id": "ec35e6b3",
   "metadata": {},
   "outputs": [],
   "source": [
    "# Define the ImageCollection and Image\n",
    "roi = ee.Geometry.Rectangle([14.0, 36.2, 14.8, 35.7])\n",
    "\n",
    "collection = (ee.ImageCollection('COPERNICUS/S2_SR')\n",
    "                .filterDate('2022-01-01', '2022-02-01')\n",
    "                .filter(ee.Filter.lt('CLOUDY_PIXEL_PERCENTAGE', 5))\n",
    "                .filterBounds(roi))\n",
    "\n",
    "image = ee.Image(collection.mean())"
   ]
  },
  {
   "cell_type": "code",
   "execution_count": 10,
   "id": "390403cd",
   "metadata": {},
   "outputs": [],
   "source": [
    "# Export the image, specifying the CRS, transform, and region\n",
    "config = {\n",
    "    'folder': 'gee_images',\n",
    "    'scale': 300,\n",
    "    'region': roi\n",
    "}\n",
    "\n",
    "task = ee.batch.Export.image(image, 'test_image', config)\n",
    "\n",
    "task.start()"
   ]
  }
 ],
 "metadata": {
  "interpreter": {
   "hash": "7644fc45f16dd2e50d103ac86d5e3ed3211d04a99decc43776201213828c04c5"
  },
  "kernelspec": {
   "display_name": "Python 3.8.13 ('medium-gee')",
   "language": "python",
   "name": "python3"
  },
  "language_info": {
   "codemirror_mode": {
    "name": "ipython",
    "version": 3
   },
   "file_extension": ".py",
   "mimetype": "text/x-python",
   "name": "python",
   "nbconvert_exporter": "python",
   "pygments_lexer": "ipython3",
   "version": "3.11.0"
  }
 },
 "nbformat": 4,
 "nbformat_minor": 5
}
