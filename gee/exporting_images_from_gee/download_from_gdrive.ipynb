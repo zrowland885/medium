{
 "cells": [
  {
   "cell_type": "code",
   "execution_count": 19,
   "metadata": {},
   "outputs": [],
   "source": [
    "# Uncomment to install libraries if necessary\n",
    "\n",
    "#!pip install PyDrive2\n",
    "#!pip install --upgrade oauth2client"
   ]
  },
  {
   "cell_type": "code",
   "execution_count": 20,
   "metadata": {},
   "outputs": [],
   "source": [
    "from pydrive2.auth import GoogleAuth\n",
    "from pydrive2.drive import GoogleDrive\n",
    "from oauth2client.service_account import ServiceAccountCredentials"
   ]
  },
  {
   "cell_type": "code",
   "execution_count": 21,
   "metadata": {},
   "outputs": [],
   "source": [
    "# Authenticate to the Google Drive of the Service Account\n",
    "gauth = GoogleAuth()\n",
    "scope = ['https://www.googleapis.com/auth/drive']\n",
    "gauth.credentials = ServiceAccountCredentials.from_json_keyfile_name('.private-key.json', scopes=scope)\n",
    "\n",
    "drive = GoogleDrive(gauth)"
   ]
  },
  {
   "cell_type": "code",
   "execution_count": null,
   "metadata": {},
   "outputs": [],
   "source": [
    "# Get all files/folders in root\n",
    "file_list = drive.ListFile({'q': \"'root' in parents and trashed=false\"}).GetList()\n",
    "\n",
    "# Get details of the 'gee_images' folder\n",
    "for file in file_list:\n",
    "    print('title: %s, id: %s' % (file['title'], file['id']))\n",
    "    folder_id = file['id']"
   ]
  },
  {
   "cell_type": "code",
   "execution_count": 31,
   "metadata": {},
   "outputs": [],
   "source": [
    "# Get list of files in 'gee_images' folder\n",
    "sub_file_list = drive.ListFile({'q': \"'\"+file['id']+\"' in parents and trashed=false\"}).GetList()"
   ]
  },
  {
   "cell_type": "code",
   "execution_count": 32,
   "metadata": {},
   "outputs": [],
   "source": [
    "# Download each image (GeoTiff) to the local directory\n",
    "for file in sub_file_list:\n",
    "\n",
    "    # Get filename, log to console\n",
    "    filename = file['title']\n",
    "    print(f'Downloading {filename}...')\n",
    "\n",
    "    # Download the TIFF into the current directory\n",
    "    file.GetContentFile(filename, mimetype='image/tiff')\n",
    "\n",
    "    # Delete the file from Drive to save space\n",
    "    file.Delete()"
   ]
  }
 ],
 "metadata": {
  "interpreter": {
   "hash": "7644fc45f16dd2e50d103ac86d5e3ed3211d04a99decc43776201213828c04c5"
  },
  "kernelspec": {
   "display_name": "Python 3.8.13 ('medium-gee')",
   "language": "python",
   "name": "python3"
  },
  "language_info": {
   "codemirror_mode": {
    "name": "ipython",
    "version": 3
   },
   "file_extension": ".py",
   "mimetype": "text/x-python",
   "name": "python",
   "nbconvert_exporter": "python",
   "pygments_lexer": "ipython3",
   "version": "3.11.0"
  },
  "orig_nbformat": 4
 },
 "nbformat": 4,
 "nbformat_minor": 2
}
